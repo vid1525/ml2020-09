{
 "cells": [
  {
   "cell_type": "markdown",
   "metadata": {},
   "source": [
    "# Алгоритмы интеллектуальной обработки больших объемов данных\n",
    "## Домашнее задание №2: Линейные модели\n"
   ]
  },
  {
   "cell_type": "markdown",
   "metadata": {},
   "source": [
    "###### <hr\\>\n",
    "**Общая информация**\n",
    "\n",
    "**Срок сдачи:** 09 ноября 18:00 Сдача **очная** на онлайн занятии. <br\\>\n",
    "\n",
    "\n",
    "Используйте данный Ipython Notebook при оформлении домашнего задания.\n",
    "\n",
    "Присылать ДЗ необходимо в виде ссылки на свой github репозиторий на почту ml1.sphere@mail.ru с указанием темы в следующем формате:\n",
    "\n",
    "[ML0920, Задание 2] Фамилия Имя.\n",
    "\n",
    "\n",
    "\n",
    "**Штрафные баллы:**\n",
    "\n",
    "1. Невыполнение PEP8 -1 балл\n",
    "2. Отсутствие фамилии в имени скрипта (скрипт должен называться по аналогии со stroykova_hw2.ipynb) -1 балл\n",
    "3. Все строчки должны быть выполнены. Нужно, чтобы output команды можно было увидеть уже в git'е. В противном случае -1 балл\n",
    "4. При оформлении ДЗ нужно пользоваться данным файлом в качестве шаблона. Не нужно удалять и видоизменять написанный код и текст, если явно не указана такая возможность. В противном случае -1 балл\n",
    "<hr\\>"
   ]
  },
  {
   "cell_type": "code",
   "execution_count": 5,
   "metadata": {},
   "outputs": [],
   "source": [
    "import pandas as pd\n",
    "import numpy as np\n",
    "import matplotlib.pyplot as plt\n",
    "\n",
    "%matplotlib inline\n",
    "\n",
    "plt.style.use('ggplot')\n",
    "plt.rcParams['figure.figsize'] = (12,5)"
   ]
  },
  {
   "cell_type": "markdown",
   "metadata": {},
   "source": [
    "Здравствуйте, уважаемые студенты! \n",
    "\n",
    "В этом задании мы будем реализовать линейные модели. Необходимо реализовать линейную и логистическую регрессии с L2 регуляризацией"
   ]
  },
  {
   "cell_type": "markdown",
   "metadata": {},
   "source": [
    "# Теоретическое введение\n",
    "\n"
   ]
  },
  {
   "cell_type": "markdown",
   "metadata": {},
   "source": [
    "Линейная регрессия решает задачу регрессии и оптимизирует функцию потерь MSE \n",
    "\n",
    "$$L(w) =  \\frac{1}{N}\\left[\\sum_i (y_i - a_i) ^ 2 \\right], $$ где $y_i$ $-$ целевая функция,  $a_i = a(x_i) =  \\langle\\,x_i,w\\rangle ,$ $-$ предсказание алгоритма на объекте $x_i$, $w$ $-$ вектор весов (размерности $D$), $x_i$ $-$ вектор признаков (такой же размерности $D$).\n",
    "\n",
    "Не забываем, что здесь и далее  мы считаем, что в $x_i$ есть тождественный вектор единиц, ему соответствует вес $w_0$.\n"
   ]
  },
  {
   "cell_type": "markdown",
   "metadata": {},
   "source": [
    "Логистическая регрессия является линейным классификатором, который оптимизирует так называемый функционал log loss:"
   ]
  },
  {
   "cell_type": "markdown",
   "metadata": {},
   "source": [
    "$$L(w) = - \\frac{1}{N}\\left[\\sum_i y_i \\log a_i + ( 1 - y_i) \\log (1 - a_i) \\right],$$\n",
    "где  $y_i  \\in \\{0,1\\}$ $-$ метка класса, $a_i$ $-$ предсказание алгоритма на объекте $x_i$. Модель пытается предсказать апостериорую вероятность объекта принадлежать к классу \"1\":\n",
    "$$ p(y_i = 1 | x_i) = a(x_i) =  \\sigma( \\langle\\,x_i,w\\rangle ),$$\n",
    "$w$ $-$ вектор весов (размерности $D$), $x_i$ $-$ вектор признаков (такой же размерности $D$).\n",
    "\n",
    "Функция $\\sigma(x)$ $-$ нелинейная функция, пероводящее скалярное произведение объекта на веса в число $\\in (0,1)$ (мы же моделируем вероятность все-таки!)\n",
    "\n",
    "$$\\sigma(x) = \\frac{1}{1 + \\exp(-x)}$$\n",
    "\n",
    "Если внимательно посмотреть на функцию потерь, то можно заметить, что в зависимости от правильного ответа алгоритм штрафуется или функцией $-\\log a_i$, или функцией $-\\log (1 - a_i)$.\n",
    "\n"
   ]
  },
  {
   "cell_type": "markdown",
   "metadata": {},
   "source": [
    "Часто для решения проблем, которые так или иначе связаны с проблемой переобучения, в функционал качества добавляют слагаемое, которое называют ***регуляризацией***. Итоговый функционал для линейной регрессии тогда принимает вид:\n",
    "\n",
    "$$L(w) =  \\frac{1}{N}\\left[\\sum_i (y_i - a_i) ^ 2 \\right] + \\frac{1}{C}R(w) $$\n",
    "\n",
    "Для логистической: \n",
    "$$L(w) = - \\frac{1}{N}\\left[\\sum_i y_i \\log a_i + ( 1 - y_i) \\log (1 - a_i) \\right] +  \\frac{1}{C}R(w)$$\n",
    "\n",
    "Самое понятие регуляризации введено основателем ВМК академиком Тихоновым https://ru.wikipedia.org/wiki/Метод_регуляризации_Тихонова\n",
    "\n",
    "Идейно методика регуляризации заключается в следующем $-$ мы рассматриваем некорректно поставленную задачу (что это такое можно найти в интернете), для того чтобы сузить набор различных вариантов (лучшие из которых будут являться переобучением ) мы вводим дополнительные ограничения на множество искомых решений. На лекции Вы уже рассмотрели два варианта регуляризации.\n",
    "\n",
    "$L1$ регуляризация:\n",
    "$$R(w) = \\sum_{j=1}^{D}|w_j|$$\n",
    "$L2$ регуляризация:\n",
    "$$R(w) =  \\sum_{j=1}^{D}w_j^2$$\n",
    "\n",
    "С их помощью мы ограничиваем модель в  возможности выбора каких угодно весов минимизирующих наш лосс, модель уже не сможет подстроиться под данные как ей угодно. \n",
    "\n",
    "Вам нужно добавить соотвествущую Вашему варианту $L2$ регуляризацию.\n",
    "\n",
    "И так, мы поняли, какую функцию ошибки будем минимизировать, разобрались, как получить предсказания по объекту и обученным весам. Осталось разобраться, как получить оптимальные веса. Для этого нужно выбрать какой-то метод оптимизации.\n",
    "\n"
   ]
  },
  {
   "cell_type": "markdown",
   "metadata": {},
   "source": [
    "Градиентный спуск является самым популярным алгоритмом обучения линейных моделей. В этом задании Вам предложат реализовать стохастический градиентный спуск или  мини-батч градиентный спуск (мини-батч на русский язык довольно сложно перевести, многие переводят это как \"пакетный\", но мне не кажется этот перевод удачным). Далее нам потребуется определение **эпохи**.\n",
    "Эпохой в SGD и MB-GD называется один проход по **всем** объектам в обучающей выборки.\n",
    "* В SGD градиент расчитывается по одному случайному объекту. Сам алгоритм выглядит примерно так:\n",
    "        1) Перемешать выборку\n",
    "        2) Посчитать градиент функции потерь на одном объекте (далее один объект тоже будем называть батчем)\n",
    "        3) Сделать шаг спуска\n",
    "        4) Повторять 2) и 3) пока не пройдет максимальное число эпох.\n",
    "* В Mini Batch SGD - по подвыборке объектов. Сам алгоритм выглядит примерно так::\n",
    "        1) Перемешать выборку, выбрать размер мини-батча (от 1 до размера выборки)\n",
    "        2) Почитать градиент функции потерь по мини-батчу (не забыть поделить на  число объектов в мини-батче)\n",
    "        3) Сделать шаг спуска\n",
    "        4) Повторять 2) и 3) пока не пройдет максимальное число эпох.\n",
    "* Для отладки алгоритма реализуйте возможность  вывода средней ошибки на обучении модели по объектам (мини-батчам). После шага градиентного спуска посчитайте значение ошибки на объекте (или мини-батче), а затем усредните, например, по ста шагам. Если обучение проходит корректно, то мы должны увидеть, что каждые 100 шагов функция потерь уменьшается. \n",
    "* Правило останова - максимальное количество эпох\n",
    "    \n"
   ]
  },
  {
   "cell_type": "markdown",
   "metadata": {},
   "source": [
    "# Теоретические вопросы (2 балла)\n",
    "В этой части Вам будут предложены теоретичские вопросы и задачи по теме. Вы, конечно, можете списать их у своего товарища или найти решение в интернете, но учтите, что они обязательно войдут в теоретический коллоквиум. Лучше разобраться в теме сейчас и успешно ответить на коллоквиуме, чем списать, не разобравшись в материале, и быть терзаемым совестью. \n",
    "\n",
    "\n",
    "Формулы надо оформлять в формате **LaTeX**."
   ]
  },
  {
   "cell_type": "markdown",
   "metadata": {},
   "source": [
    "Задача 1. Градиент для линейной регрессии.\n",
    "* Выпишите формулу обновления весов для линейной регрессии с L2 регуляризацией для мини-батч градиентого спуска размера $n$:\n",
    "\n",
    "$$ w_{new} = w_{old} - ... $$\n",
    "\n",
    " Отнеситесь к этому пункту максимально серьезно, это Вам нужно будет реализовать в задании.\n",
    " \n",
    "Проанализруйте итоговую формулу градиента - как  интуитивно можно  описать, чему равен градиент?"
   ]
  },
  {
   "cell_type": "markdown",
   "metadata": {},
   "source": [
    "***Ваше решение здесь***\n",
    "$$ w_{new} = w_{old} -\\alpha \\nabla Q $$  \n",
    "$$ \\dfrac{\\partial Q}{\\partial w _{i}}=-\\dfrac{2}{N}\\cdot \\sum ^{N}_{j=0}\\left( y_{j}-\\sigma(\\langle x_{j},w\\rangle)\\right) x_{ji}+\\dfrac{2w_{i}}{C} $$  \n",
    "$$ \\nabla Q=\\begin{pmatrix} \\dfrac{\\partial Q}{\\partial w _{1}} \\\\ \\vdots \\\\ \\dfrac{\\partial Q}{\\partial w_{m}} \\end{pmatrix} $$\n",
    "\n",
    "$ \\alpha $ - длина шага градиентного спуска  \n",
    "C - коэф. регуляризации  \n",
    "m - кол-во признаков  \n",
    "N - кол-во элементов в батче"
   ]
  },
  {
   "cell_type": "markdown",
   "metadata": {},
   "source": [
    "Задача 2. Градиент для логистической регрессии.\n",
    "* Выпишите формулу обновления весов для логистической регрессии с L2 регуляризацией  для мини-батч градиентого спуска размера $n$:\n",
    "\n",
    "$$ w_{new} = w_{old} - ... $$\n",
    "\n",
    " Отнеситесь к этому пункту максимально серьезно, это Вам нужно будет реализовать в задании.\n",
    " \n",
    "Проанализруйте итоговую формулу градиента - как  интуитивно можно  описать, чему равен градиент? Как соотносится этот градиент с градиентом, возникающий в задаче линейной регрессии?\n",
    "\n",
    "Подсказка: Вам градиент, которой получается если “в лоб” продифференцировать,  надо немного преобразовать.\n",
    "Надо подставить, что $1 - \\sigma(w,x) $ это  $1 - a(x_i)$, а  $-\\sigma(w,x)$ это $0 - a(x_i)$.  Тогда получится свести к одной красивой формуле с линейной регрессией, которую программировать будет намного проще."
   ]
  },
  {
   "cell_type": "markdown",
   "metadata": {},
   "source": [
    "***Ваше решение здесь***\n",
    "$$ w_{new} = w_{old} -\\alpha \\nabla Q $$  \n",
    "$$ \\begin{aligned}\\dfrac{\\partial Q}{\\partial w_{i}}=\\dfrac{-1}{N}\\sum ^{N}_{j=1}\\left[ y_{j}-a\\left( x_{j}\\right) \\right] x_{ji}\\\\ \\end{aligned} +\\dfrac{2w_{i}}{C} $$  \n",
    "$$ \\nabla Q=\\begin{pmatrix} \\dfrac{\\partial Q}{\\partial w _{1}} \\\\ \\vdots \\\\ \\dfrac{\\partial Q}{\\partial w _{m}} \\end{pmatrix} $$\n",
    "$ \\alpha $ - длина шага градиентного спуска  \n",
    "C - коэф. регуляризации  \n",
    "m - кол-во признаков  \n",
    "N - кол-во элементов в батче"
   ]
  },
  {
   "cell_type": "markdown",
   "metadata": {},
   "source": [
    "Задача 3. Точное решение линейной регрессии\n",
    "\n",
    "На лекции было показано, что точное решение линейной регрессии имеет вид $w = (X^TX)^{-1}X^TY $. \n",
    "* Покажите, что это действительно является точкой минимума в случае, если матрица X имеет строк не меньше, чем столбцов и имеет полный ранг. Подсказка: посчитайте Гессиан и покажите, что в этом случае он положительно определен. \n",
    "* Выпишите точное решение для модели с $L2$ регуляризацией. Как L2 регуляризация помогает с точным решением где матрица X имеет линейно зависимые признаки?"
   ]
  },
  {
   "cell_type": "markdown",
   "metadata": {},
   "source": [
    "***Ваше решение здесь***\n",
    "$$ Q\\left( w\\right) =\\left\\| Xw-Y\\right\\| \\rightarrow \\min _{w}$$  \n",
    "Запишем условие минимума:  \n",
    "$$ \\dfrac{\\partial Q}{\\partial w}=2X^{T}\\left( Xw-Y\\right) =0$$  \n",
    "$$ X^{T}Xw=X^{T}Y\\Rightarrow w=\\left( X^{T}X\\right) ^{-1}\\cdot X^{T}Y $$"
   ]
  },
  {
   "cell_type": "markdown",
   "metadata": {},
   "source": [
    "Задача 4.  Предсказываем вероятности.\n",
    "\n",
    "Когда говорят о логистической регрессии, произносят фразу, что она \"предсказывает вероятности положительного класса\". Давайте разберемся, что же за этим стоит. Посчитаем математическое ожидание функции потерь и проверим, что предсказание алгоритма, оптимизирующее это мат. ожидание, будет являться вероятностью положительного класса. \n",
    "\n",
    "И так, функция потерь на объекте $x_i$, который имеет метку $y_i \\in \\{0,1\\}$  для предсказания $a(x_i)$ равна:\n",
    "$$L(y_i, b) =-[y_i == 1] \\log a(x_i)  - [y_i == 0] \\log(1 - a(x_i)) $$\n",
    "\n",
    "Где $[]$ означает индикатор $-$ он равен единице, если значение внутри него истинно, иначе он равен нулю. Тогда мат. ожидание при условии конкретного $x_i$  по определение мат. ожидания дискретной случайной величины:\n",
    "$$E(L | x_i) = -p(y_i = 1 |x_i ) \\log a(x_i)  - p(y_i = 0 | x_i) \\log( 1 - a(x_i))$$\n",
    "* Докажите, что значение $a(x_i)$, минимизирующее данное мат. ожидание, в точности равно $p(y_i = 1 |x_i)$, то есть равно вероятности положительного класса.\n",
    "\n",
    "Подсказка: возможно, придется воспользоваться, что  $p(y_i = 1 | x_i) + p(y_i = 0 | x_i) = 1$"
   ]
  },
  {
   "cell_type": "markdown",
   "metadata": {},
   "source": [
    "***Ваше решение здесь***"
   ]
  },
  {
   "cell_type": "markdown",
   "metadata": {},
   "source": [
    "Задача 5.  Смысл регуляризации.\n",
    "\n",
    "Нужно ли в L1/L2 регуляризации использовать свободный член $w_0$ (который не умножается ни на какой признак)?\n",
    "\n",
    "Подсказка: подумайте, для чего мы вводим $w_0$"
   ]
  },
  {
   "cell_type": "markdown",
   "metadata": {},
   "source": [
    "***Ваше решение здесь***\n",
    "Да, необходимо использовать w0, т.к. мы вводим фиктивный признак в векторе x, который всегда = 1."
   ]
  },
  {
   "cell_type": "markdown",
   "metadata": {},
   "source": [
    "#  Реализация линейной модели (4 балла)"
   ]
  },
  {
   "cell_type": "markdown",
   "metadata": {},
   "source": [
    "## Зачем нужны батчи?\n"
   ]
  },
  {
   "cell_type": "markdown",
   "metadata": {},
   "source": [
    "Как Вы могли заметить из теоретического введения, что в случае SGD, что в случа mini-batch GD,  на каждой итерации обновление весов  происходит только по небольшой части данных (1 пример в случае SGD, batch примеров в случае mini-batch). То есть для каждой итерации нам *** не нужна вся выборка***. Мы можем просто итерироваться по выборке, беря батч нужного размера (далее 1 объект тоже будем называть батчом).\n",
    "\n",
    "Легко заметить, что в этом случае нам не нужно загружать все данные в оперативную память, достаточно просто считать батч с диска, обновить веса, считать диска другой батч и так далее. В целях упрощения домашней работы, прямо с диска  мы считывать не будем, будем работать с обычными numpy array. \n",
    "\n",
    "\n",
    "\n"
   ]
  },
  {
   "cell_type": "markdown",
   "metadata": {},
   "source": [
    "## Немножко про генераторы в Python\n",
    "\n"
   ]
  },
  {
   "cell_type": "markdown",
   "metadata": {},
   "source": [
    "Идея считывания данных кусками удачно ложится на так называемые ***генераторы*** из языка Python. В данной работе Вам предлагается не только разобраться с логистической регрессией, но  и познакомиться с таким важным элементом языка.  При желании Вы можете убрать весь код, связанный с генераторами, и реализовать логистическую регрессию и без них, ***штрафоваться это никак не будет***. Главное, чтобы сама модель была реализована правильно, и все пункты были выполнены. \n",
    "\n",
    "Подробнее можно почитать вот тут https://anandology.com/python-practice-book/iterators.html\n"
   ]
  },
  {
   "cell_type": "markdown",
   "metadata": {},
   "source": [
    "К генератору стоит относиться просто как к функции, которая порождает не один объект, а целую последовательность объектов. Новое значение из последовательности генерируется с помощью ключевого слова ***yield***. Ниже Вы можете насладиться  генератором чисел Фибоначчи."
   ]
  },
  {
   "cell_type": "code",
   "execution_count": 62,
   "metadata": {},
   "outputs": [],
   "source": [
    "def fib(max_iter=4):\n",
    "    a, b = 0, 1\n",
    "    iter_num = 0\n",
    "    while 1:\n",
    "        yield a\n",
    "        a, b = b, a + b\n",
    "        iter_num += 1\n",
    "        if iter_num == max_iter:\n",
    "            break"
   ]
  },
  {
   "cell_type": "markdown",
   "metadata": {},
   "source": [
    "Вот так можно сгенерировать последовательность Фибоначчи. \n",
    "\n",
    "Заметьте, что к генераторам можно применять некоторые стандартные функции из Python, например enumerate."
   ]
  },
  {
   "cell_type": "code",
   "execution_count": 63,
   "metadata": {},
   "outputs": [
    {
     "name": "stdout",
     "output_type": "stream",
     "text": [
      "Fib num: 0 fib values: 0\n",
      "Fib num: 1 fib values: 1\n",
      "Fib num: 2 fib values: 1\n",
      "Fib num: 3 fib values: 2\n"
     ]
    }
   ],
   "source": [
    "new_generator = fib()\n",
    "for j, fib_val in enumerate(new_generator):\n",
    "    print (\"Fib num: \" + str(j) + \" fib values: \" + str(fib_val))"
   ]
  },
  {
   "cell_type": "markdown",
   "metadata": {},
   "source": [
    "Пересоздавая объект, можно сколько угодно раз генерировать заново последовательность. "
   ]
  },
  {
   "cell_type": "code",
   "execution_count": 64,
   "metadata": {},
   "outputs": [
    {
     "name": "stdout",
     "output_type": "stream",
     "text": [
      "Fib num: 0 fib values: 0\n",
      "Fib num: 1 fib values: 1\n",
      "Fib num: 2 fib values: 1\n",
      "Fib num: 3 fib values: 2\n",
      "Fib num: 0 fib values: 0\n",
      "Fib num: 1 fib values: 1\n",
      "Fib num: 2 fib values: 1\n",
      "Fib num: 3 fib values: 2\n",
      "Fib num: 0 fib values: 0\n",
      "Fib num: 1 fib values: 1\n",
      "Fib num: 2 fib values: 1\n",
      "Fib num: 3 fib values: 2\n"
     ]
    }
   ],
   "source": [
    "for i in range(0, 3):\n",
    "    new_generator = fib()\n",
    "    for j, fib_val in enumerate(new_generator):\n",
    "        print (\"Fib num: \" + str(j) + \" fib values: \" + str(fib_val))"
   ]
  },
  {
   "cell_type": "markdown",
   "metadata": {},
   "source": [
    "А вот так уже нельзя."
   ]
  },
  {
   "cell_type": "code",
   "execution_count": 65,
   "metadata": {},
   "outputs": [
    {
     "name": "stdout",
     "output_type": "stream",
     "text": [
      "Fib num: 0 fib values: 0\n",
      "Fib num: 1 fib values: 1\n",
      "Fib num: 2 fib values: 1\n",
      "Fib num: 3 fib values: 2\n"
     ]
    }
   ],
   "source": [
    "new_generator = fib()\n",
    "for i in range(0, 3):\n",
    "    for j, fib_val in enumerate(new_generator):\n",
    "        print (\"Fib num: \" + str(j) + \" fib values: \" + str(fib_val))"
   ]
  },
  {
   "cell_type": "markdown",
   "metadata": {},
   "source": [
    "Концепция крайне удобная для обучения  моделей $-$ у Вас есть некий источник данных, который Вам выдает их кусками, и Вам совершенно все равно откуда он их берет. Под ним может скрывать как массив в оперативной памяти, как файл на жестком диске, так и SQL база данных. Вы сами данные никуда не сохраняете, оперативную память экономите."
   ]
  },
  {
   "cell_type": "markdown",
   "metadata": {},
   "source": [
    "Если Вам понравилась идея с генераторами, то Вы можете реализовать свой, используя прототип batch_generator. В нем Вам нужно выдавать батчи признаков и ответов для каждой новой итерации спуска. Если не понравилась идея, то можете реализовывать SGD или mini-batch GD без генераторов."
   ]
  },
  {
   "cell_type": "code",
   "execution_count": 1,
   "metadata": {},
   "outputs": [
    {
     "name": "stdout",
     "output_type": "stream",
     "text": [
      "[[7 8]] [1]\n",
      "[[5 6]] [0]\n",
      "[[ 9 10]] [2]\n",
      "[[11 12]] [3]\n",
      "[[13 16]] [4]\n"
     ]
    }
   ],
   "source": [
    "import random as rd\n",
    "import numpy as np\n",
    "\n",
    "def batch_generator(X, Y, shuffle=True, batch_size=1):\n",
    "    \"\"\"\n",
    "    Гератор новых батчей для обучения\n",
    "    X          - матрица объекты-признаки\n",
    "    y_batch    - вектор ответов\n",
    "    shuffle    - нужно ли случайно перемешивать выборку\n",
    "    batch_size - размер батча ( 1 это SGD, > 1 mini-batch GD)\n",
    "    Генерирует подвыборку для итерации спуска (X_batch, y_batch)\n",
    "    \"\"\"\n",
    "    X = np.array(X)\n",
    "    Y = np.array(Y)\n",
    "    ind = np.arange(len(Y))\n",
    "    if shuffle:\n",
    "        rd.shuffle(ind)\n",
    "    cur = 0\n",
    "    for i in range(0, len(Y), batch_size):\n",
    "        X_batch = np.array(X[ind[cur:cur+batch_size]])\n",
    "        y_batch = np.array(Y[ind[cur:cur+batch_size]])\n",
    "        yield (X_batch, y_batch)\n",
    "        cur += batch_size\n",
    "\n",
    "    return StopIteration\n",
    "\n",
    "\n",
    "X_ = [(5, 6), (7, 8), (9, 10), (11, 12), (13, 16)]\n",
    "Y_ = [x for x in range(5)]\n",
    "gen = batch_generator(X_, Y_, shuffle=True)\n",
    "for x, y in gen:\n",
    "    print(x, y)"
   ]
  },
  {
   "cell_type": "code",
   "execution_count": 2,
   "metadata": {},
   "outputs": [],
   "source": [
    "import math\n",
    "import numpy as np\n",
    "import matplotlib.pyplot as plt\n",
    "import random as rd\n",
    "from sklearn.base import BaseEstimator, ClassifierMixin\n",
    "from sklearn.metrics import accuracy_score\n",
    "\n",
    "def sigmoid(x):\n",
    "    \"\"\"\n",
    "    Вычисляем значение сигмоида. \n",
    "    X - выход линейной модели\n",
    "    \"\"\" \n",
    "    sigm_value = 1.0 / (1.0 + math.exp(-x))\n",
    "    return sigm_value\n",
    "\n",
    "def d_sigmoid(x):\n",
    "    return math.exp(-x) * (sigmoid(x) ** 2)\n",
    "\n",
    "class MySGDClassifier(BaseEstimator, ClassifierMixin):\n",
    "\n",
    "    def __init__(self, batch_generator, batch_size=1, C=1, alpha=0.01, \n",
    "                 coef=1.0, max_epoch=10, model_type='lin_reg'):\n",
    "        \"\"\"\n",
    "        batch_generator -- функция генератор, которой будем создавать батчи\n",
    "        C - коэф. регуляризации\n",
    "        alpha - скорость спуска\n",
    "        max_epoch - максимальное количество эпох\n",
    "        model_type - тим модели, lin_reg или log_reg\n",
    "        coef - коэффициент уменьшения alpha с каждой эпохой\n",
    "                (coef <= 1)\n",
    "        \"\"\"\n",
    "\n",
    "        self.C = C\n",
    "        self.alpha = alpha\n",
    "        self.max_epoch = max_epoch\n",
    "        self.batch_generator = batch_generator\n",
    "        self.errors_log = {'iter' : [], 'loss' : []}  \n",
    "        self.model_type = model_type\n",
    "        self.coef = coef\n",
    "        self.batch_size=batch_size\n",
    "\n",
    "    def calc_loss(self, X_batch, y_batch):\n",
    "        \"\"\"\n",
    "        Считаем функцию потерь по батчу \n",
    "        X_batch - матрица объекты-признаки по батчу\n",
    "        y_batch - вектор ответов по батчу\n",
    "        Не забудте тип модели (линейная или логистическая регрессия)!\n",
    "        \"\"\"\n",
    "\n",
    "        assert hasattr(self, 'weights'), \"Make fit firstly\\n\"\n",
    "        loss = None\n",
    "        if self.model_type == 'lin_reg':\n",
    "            total_sum = 0\n",
    "            n = len(y_batch)\n",
    "            for cur, y in zip(X_batch, y_batch):\n",
    "                total_sum += (y - (np.dot(self.weights[1:], cur) + self.weights[0])) ** 2 / n\n",
    "            loss = total_sum\n",
    "        elif self.model_type == 'log_reg':\n",
    "            total_sum = 0\n",
    "            n = len(y_batch)\n",
    "            for cur, y in zip(X_batch, y_batch):\n",
    "                if y == 1:\n",
    "                    total_sum += y * math.log(sigmoid(np.dot(cur, self.weights[1:]) + self.weights[0])) / n\n",
    "                elif y == 0:\n",
    "                    total_sum += math.log(1 - sigmoid(np.dot(cur, self.weights[1:]) + self.weights[0])) / n\n",
    "            loss = -total_sum\n",
    "        return loss + (1 / self.C) * np.dot(self.weights, self.weights)\n",
    "\n",
    "    def calc_loss_grad(self, X_batch, y_batch):\n",
    "        \"\"\"\n",
    "        Считаем  градиент функции потерь по батчу (то что Вы вывели в задании 1)\n",
    "        X_batch - матрица объекты-признаки по батчу\n",
    "        y_batch - вектор ответов по батчу\n",
    "        Не забудте тип модели (линейная или логистическая регрессия)!\n",
    "        \"\"\"\n",
    "        loss_grad = np.ndarray((0,))\n",
    "        if self.model_type == 'lin_reg':\n",
    "            diff = np.ndarray((0,))\n",
    "            n = len(X_batch)\n",
    "            for x, y in zip(X_batch, y_batch):\n",
    "                diff = np.append(diff, (np.dot(x, self.weights[1:]) + self.weights[0]) - y)\n",
    "            loss_grad = np.append(loss_grad, 2 * (np.sum(diff) / n + self.weights[0] / self.C))\n",
    "            for i in range(1, len(self.weights)):\n",
    "                loss_grad = np.append(loss_grad, 2 * (np.dot(X_batch[:, i-1], diff) / n\n",
    "                                                      + self.weights[i] / self.C))\n",
    "        elif self.model_type == 'log_reg':\n",
    "            diff = np.ndarray((0,))\n",
    "            n = len(X_batch)\n",
    "            for x, y in zip(X_batch, y_batch):\n",
    "                diff = np.append(diff, sigmoid(np.dot(x, self.weights[1:]) + self.weights[0]) - y)\n",
    "            loss_grad = np.append(loss_grad, np.sum(diff) / n + 2 * self.weights[0] / self.C)\n",
    "            for i in range(1, len(self.weights)):\n",
    "                loss_grad = np.append(loss_grad, \n",
    "                                      np.dot(X_batch[:, i-1], diff) / n + 2.0 * self.weights[i] / self.C)\n",
    "        return loss_grad\n",
    "\n",
    "    def update_weights(self, new_grad):\n",
    "        \"\"\"\n",
    "        Обновляем вектор весов\n",
    "        new_grad - градиент по батчу\n",
    "        \"\"\"\n",
    "        self.weights = self.weights - new_grad * self.alpha\n",
    "\n",
    "    def fit(self, X, y):\n",
    "        '''\n",
    "        Обучение модели\n",
    "        X - матрица объекты-признаки\n",
    "        y - вектор ответов\n",
    "        '''\n",
    "        assert len(X) != 0, \"X train is empty\\n\"\n",
    "        self.weights = np.random.sample(len(X[0]) + 1)\n",
    "        for n in range(0, self.max_epoch):\n",
    "            new_epoch_generator = self.batch_generator(X, y, batch_size=self.batch_size)\n",
    "            for batch_num, new_batch in enumerate(new_epoch_generator):\n",
    "                X_batch = new_batch[0]\n",
    "                y_batch = new_batch[1]\n",
    "                batch_grad = self.calc_loss_grad(X_batch, y_batch)\n",
    "                self.update_weights(batch_grad)\n",
    "                batch_loss = self.calc_loss(X_batch, y_batch)\n",
    "                self.errors_log['iter'].append(batch_num)\n",
    "                self.errors_log['loss'].append(batch_loss)\n",
    "            self.alpha *= self.coef\n",
    "        return self\n",
    "\n",
    "    def predict(self, X):\n",
    "        '''\n",
    "        Предсказание класса\n",
    "        X - матрица объекты-признаки\n",
    "        Не забудте тип модели (линейная или логистическая регрессия)!\n",
    "        '''\n",
    "        assert hasattr(self, 'weights'), \"Make fit firstly\\n\"\n",
    "        y_hat = X @ self.weights[1:] + self.weights[0]\n",
    "        if self.model_type == 'log_reg':\n",
    "            for i in np.where(y_hat >= 0):\n",
    "                y_hat[i] = 1\n",
    "            for i in np.where(y_hat < 0):\n",
    "                y_hat[i] = 0\n",
    "            y_hat = y_hat.astype(int)\n",
    "\n",
    "        return y_hat"
   ]
  },
  {
   "cell_type": "markdown",
   "metadata": {},
   "source": [
    "Запустите обе регрессии на синтетических данных. \n",
    "\n",
    "\n",
    "Выведите полученные веса и нарисуйте разделяющую границу между классами (используйте только первых два веса для первых двух признаков X[:,0], X[:,1] для отображения в 2d пространство ).  "
   ]
  },
  {
   "cell_type": "code",
   "execution_count": 86,
   "metadata": {},
   "outputs": [],
   "source": [
    "def plot_decision_boundary(cls):\n",
    "    def f(x):\n",
    "        return -(x * cls.weights[1] + cls.weights[0]) / cls.weights[2]\n",
    "    \n",
    "    print(cls.model_type, cls.weights)\n",
    "    color = None\n",
    "    if cls.model_type == 'log_reg':\n",
    "        color = 'green'\n",
    "    elif cls.model_type == 'lin_reg': \n",
    "        color = 'red'\n",
    "\n",
    "    plt.plot([-5, 8], [f(-5), f(8)], color=color)"
   ]
  },
  {
   "cell_type": "code",
   "execution_count": 87,
   "metadata": {},
   "outputs": [
    {
     "name": "stdout",
     "output_type": "stream",
     "text": [
      "log_reg [-6.34879672  1.35183014 -1.54011103]\n",
      "lin_reg [-1.24925881  0.29997817 -0.34329644]\n"
     ]
    },
    {
     "data": {
      "text/plain": [
       "<matplotlib.collections.PathCollection at 0x7f67f5bae090>"
      ]
     },
     "execution_count": 87,
     "metadata": {},
     "output_type": "execute_result"
    },
    {
     "data": {
      "image/png": "[encoded data removed]",
      "text/plain": [
       "<Figure size 864x360 with 1 Axes>"
      ]
     },
     "metadata": {},
     "output_type": "display_data"
    }
   ],
   "source": [
    "np.random.seed(0)\n",
    "\n",
    "C1 = np.array([[0., -0.8], [1.5, 0.8]])\n",
    "C2 = np.array([[1., -0.7], [2., 0.7]])\n",
    "gauss1 = np.dot(np.random.randn(200, 2) + np.array([5, 3]), C1)\n",
    "gauss2 = np.dot(np.random.randn(200, 2) + np.array([1.5, 0]), C2)\n",
    "\n",
    "X = np.vstack([gauss1, gauss2])\n",
    "y = np.r_[np.ones(200), np.zeros(200)].astype(int)\n",
    "\n",
    "MyCls = MySGDClassifier(batch_generator, C=10000, coef=0.99, max_epoch=200, model_type='log_reg')\n",
    "MyCls.fit(X, y)\n",
    "plot_decision_boundary(MyCls)\n",
    "\n",
    "for i in np.where(y == 0):\n",
    "    y[i] = -1\n",
    "\n",
    "MyCls = MySGDClassifier(batch_generator, C=10000, coef=0.99, max_epoch=200, model_type='lin_reg')\n",
    "MyCls.fit(X, y)\n",
    "plot_decision_boundary(MyCls)\n",
    "\n",
    "plt.scatter(X[:,0], X[:,1], c=y)"
   ]
  },
  {
   "cell_type": "markdown",
   "metadata": {},
   "source": [
    "Далее будем анализировать Ваш алгоритм. \n",
    "Для этих заданий используйте датасет ниже."
   ]
  },
  {
   "cell_type": "code",
   "execution_count": 88,
   "metadata": {},
   "outputs": [],
   "source": [
    "from sklearn.datasets import make_classification"
   ]
  },
  {
   "cell_type": "code",
   "execution_count": 89,
   "metadata": {},
   "outputs": [],
   "source": [
    "X, y = make_classification(n_samples=100000, n_features=10, \n",
    "                           n_informative=4, n_redundant=0, \n",
    "                           random_state=123, class_sep=1.0,\n",
    "                           n_clusters_per_class=1)"
   ]
  },
  {
   "cell_type": "markdown",
   "metadata": {},
   "source": [
    "Покажите сходимости обеих регрессией на этом датасете: изобразите график  функции потерь, усредненной по $N$ шагам градиентого спуска, для разных `alpha` (размеров шага). Разные `alpha` расположите на одном графике. \n",
    "\n",
    "$N$ можно брать 10, 50, 100 и т.д. "
   ]
  },
  {
   "cell_type": "code",
   "execution_count": 90,
   "metadata": {
    "scrolled": true
   },
   "outputs": [
    {
     "name": "stdout",
     "output_type": "stream",
     "text": [
      "0.2258288294981288\n",
      "0.21707525966392247\n",
      "0.21337035972505938\n",
      "0.21741638731367124\n"
     ]
    },
    {
     "data": {
      "image/png": "[encoded data removed]",
      "text/plain": [
       "<Figure size 864x360 with 1 Axes>"
      ]
     },
     "metadata": {},
     "output_type": "display_data"
    }
   ],
   "source": [
    "alpha = [(0.01, 'red'), (0.001, 'yellow'), (0.0001, 'green'), (0.00001, 'blue')]\n",
    "N = 50\n",
    "for a in alpha:\n",
    "    MyClsLin = MySGDClassifier(batch_generator,\n",
    "                               batch_size=20, alpha=a[0], coef=0.99, max_epoch=100, model_type='lin_reg')\n",
    "    MyClsLin.fit(X, y)\n",
    "    res = []\n",
    "    params = []\n",
    "    for i in range(0, len(MyClsLin.errors_log['loss']), N):\n",
    "        params.append((i + N + i) / 2)\n",
    "        res.append(np.mean(MyClsLin.errors_log['loss'][i: i+N]))\n",
    "    plt.plot(params[:2000], res[:2000], color=a[1])\n",
    "    print(res[-1])"
   ]
  },
  {
   "cell_type": "code",
   "execution_count": 91,
   "metadata": {},
   "outputs": [
    {
     "name": "stdout",
     "output_type": "stream",
     "text": [
      "0.5689199009456662\n",
      "0.5680906137573252\n",
      "0.5741409791107245\n",
      "0.567502195042805\n"
     ]
    },
    {
     "data": {
      "image/png": "[encoded data removed]",
      "text/plain": [
       "<Figure size 864x360 with 1 Axes>"
      ]
     },
     "metadata": {},
     "output_type": "display_data"
    }
   ],
   "source": [
    "for a in alpha:\n",
    "    MyClsLog = MySGDClassifier(batch_generator, batch_size=20, \n",
    "                               alpha=a[0], coef=0.99, max_epoch=100, model_type='log_reg')\n",
    "    MyClsLog.fit(X, y)\n",
    "    res = []\n",
    "    params = []\n",
    "    for i in range(0, len(MyClsLog.errors_log['loss']), N):\n",
    "        params.append((i + N + i) / 2)\n",
    "        res.append(np.mean(MyClsLog.errors_log['loss'][i: i+N]))\n",
    "    plt.plot(params[:2000], res[:2000], color=a[1])\n",
    "    print(res[-1])"
   ]
  },
  {
   "cell_type": "markdown",
   "metadata": {},
   "source": [
    "Что Вы можете сказать про сходимость метода при различных `alpha`? Какое значение стоит выбирать для лучшей сходимости?"
   ]
  },
  {
   "cell_type": "markdown",
   "metadata": {},
   "source": [
    "Изобразите график среднего значения весов для обеих регрессий в зависимости от коеф. регуляризации С из `np.logspace(3, -3, 10)` "
   ]
  },
  {
   "cell_type": "code",
   "execution_count": 92,
   "metadata": {},
   "outputs": [
    {
     "name": "stdout",
     "output_type": "stream",
     "text": [
      "-0.0021502151748939158\n",
      "-0.0007122156759683276\n",
      "-0.03354042993474308\n",
      "-0.037942721593926004\n",
      "-0.023098995840449655\n",
      "-0.0084575987278539\n",
      "-0.002169928034377388\n",
      "-0.0004784937252250441\n",
      "-0.00012638325388004325\n",
      "-2.4688855716771766e-05\n"
     ]
    },
    {
     "data": {
      "text/plain": [
       "[<matplotlib.lines.Line2D at 0x7f67f2c850d0>]"
      ]
     },
     "execution_count": 92,
     "metadata": {},
     "output_type": "execute_result"
    },
    {
     "data": {
      "image/png": "[encoded data removed]",
      "text/plain": [
       "<Figure size 864x360 with 1 Axes>"
      ]
     },
     "metadata": {},
     "output_type": "display_data"
    }
   ],
   "source": [
    "C_values = np.logspace(3, -3, 10)\n",
    "\n",
    "#log regression\n",
    "\n",
    "res_log = []\n",
    "for a in C_values:\n",
    "    MyClsLog = MySGDClassifier(batch_generator, batch_size=20,\n",
    "                               alpha=0.0001, coef=0.99, C=a, max_epoch=100, model_type='log_reg')\n",
    "    MyClsLog.fit(X, y)\n",
    "    res_log.append(np.mean(MyClsLog.weights))\n",
    "    print(res_log[-1])\n",
    "plt.plot(C_values, res_log, color='red')"
   ]
  },
  {
   "cell_type": "code",
   "execution_count": 93,
   "metadata": {},
   "outputs": [
    {
     "name": "stdout",
     "output_type": "stream",
     "text": [
      "0.034140519973509906\n",
      "0.03425759318110761\n",
      "0.034785403162268934\n",
      "0.03575460654468788\n",
      "0.031756391482129304\n",
      "0.016642894156890856\n",
      "0.004550419362626165\n",
      "0.001013243949463116\n",
      "0.00021691332573852893\n",
      "4.2095119245829204e-05\n"
     ]
    },
    {
     "data": {
      "text/plain": [
       "[<matplotlib.lines.Line2D at 0x7f67f2bebe10>]"
      ]
     },
     "execution_count": 93,
     "metadata": {},
     "output_type": "execute_result"
    },
    {
     "data": {
      "image/png": "[encoded data removed]",
      "text/plain": [
       "<Figure size 864x360 with 1 Axes>"
      ]
     },
     "metadata": {},
     "output_type": "display_data"
    }
   ],
   "source": [
    "#linear regression\n",
    "res_lin = []\n",
    "for a in C_values:\n",
    "    MyClsLin = MySGDClassifier(batch_generator, batch_size=20, \n",
    "                               alpha=0.0001, C=a, coef=0.99, max_epoch=100, model_type='lin_reg')\n",
    "    MyClsLin.fit(X, y)\n",
    "    res_lin.append(np.mean(MyClsLin.weights))\n",
    "    print(res_lin[-1])\n",
    "plt.plot(C_values, res_lin, color='blue')"
   ]
  },
  {
   "cell_type": "markdown",
   "metadata": {},
   "source": [
    "Довольны ли Вы, насколько сильно уменьшились Ваши веса? "
   ]
  },
  {
   "cell_type": "markdown",
   "metadata": {},
   "source": [
    "# Боевое применение (4  балла)\n",
    "\n",
    "**Защита данной части возможна только при преодолении в проекте бейзлайна Handmade baseline.**"
   ]
  },
  {
   "cell_type": "markdown",
   "metadata": {},
   "source": [
    "Давайте применим модель на итоговом проекте! Датасет сделаем точно таким же образом, как было показано в project_overview.ipynb\n",
    "\n",
    "Применим обе регрессии, подберем для них параметры и сравним качество. Может быть Вы еще одновременно с решением домашней работы подрастете на лидерборде!"
   ]
  },
  {
   "cell_type": "code",
   "execution_count": 3,
   "metadata": {},
   "outputs": [
    {
     "name": "stdout",
     "output_type": "stream",
     "text": [
      "28026\n"
     ]
    }
   ],
   "source": [
    "doc_to_title = {}\n",
    "with open('./docs_titles.tsv') as f:\n",
    "    for num_line, line in enumerate(f):\n",
    "        if num_line == 0:\n",
    "            continue\n",
    "        data = line.strip().split('\\t', 1)\n",
    "        doc_id = int(data[0])\n",
    "        if len(data) == 1:\n",
    "            title = ''\n",
    "        else:\n",
    "            title = data[1]\n",
    "        doc_to_title[doc_id] = title\n",
    "print (len(doc_to_title))\n"
   ]
  },
  {
   "cell_type": "code",
   "execution_count": 4,
   "metadata": {},
   "outputs": [],
   "source": [
    "import pandas as pd\n",
    "train_data = pd.read_csv('./train_groups.csv')\n",
    "traingroups_titledata = {}\n",
    "for i in range(len(train_data)):\n",
    "    new_doc = train_data.iloc[i]\n",
    "    doc_group = new_doc['group_id']\n",
    "    doc_id = new_doc['doc_id']\n",
    "    target = new_doc['target']\n",
    "    title = doc_to_title[doc_id]\n",
    "    if doc_group not in traingroups_titledata:\n",
    "        traingroups_titledata[doc_group] = []\n",
    "    traingroups_titledata[doc_group].append((doc_id, title, target))"
   ]
  },
  {
   "cell_type": "code",
   "execution_count": 16,
   "metadata": {},
   "outputs": [
    {
     "name": "stdout",
     "output_type": "stream",
     "text": [
      "('в', 2649)\n",
      "('и', 2189)\n",
      "('как', 2054)\n",
      "('на', 1574)\n",
      "('для', 871)\n",
      "('с', 808)\n",
      "('форум', 670)\n",
      "('по', 573)\n",
      "('что', 571)\n",
      "('от', 496)\n",
      "('скачать', 451)\n",
      "('о', 440)\n",
      "('из', 421)\n",
      "('страница', 416)\n",
      "('онлайн', 310)\n",
      "('российский', 303)\n",
      "('сделать', 295)\n",
      "('рецепт', 294)\n",
      "('новость', 284)\n",
      "('бесплатно', 280)\n",
      "('год', 277)\n",
      "('хороший', 272)\n",
      "('лечение', 272)\n",
      "('домашний', 262)\n",
      "('youtube', 246)\n",
      "('видео', 239)\n",
      "('условие', 237)\n",
      "('сколько', 226)\n",
      "('сервис', 225)\n",
      "('ребёнок', 224)\n",
      "('2', 224)\n",
      "('средство', 220)\n",
      "('фото', 215)\n",
      "{'от', 'что', 'в', 'из', 'скачать', 'на', 'форум', 'по', 'для', 'и', 'с', 'как', 'о'}\n",
      "popular -- ok\n",
      "1 -- ok\n",
      "2 -- ok\n",
      "3 -- ok\n",
      "4 -- ok\n",
      "5 -- ok\n",
      "6 -- ok\n",
      "7 -- ok\n",
      "8 -- ok\n",
      "9 -- ok\n",
      "10 -- ok\n",
      "11 -- ok\n",
      "12 -- ok\n",
      "13 -- ok\n",
      "14 -- ok\n",
      "15 -- ok\n",
      "16 -- ok\n",
      "17 -- ok\n",
      "18 -- ok\n",
      "19 -- ok\n",
      "20 -- ok\n",
      "21 -- ok\n",
      "22 -- ok\n",
      "23 -- ok\n",
      "24 -- ok\n",
      "25 -- ok\n",
      "26 -- ok\n",
      "27 -- ok\n",
      "28 -- ok\n",
      "29 -- ok\n",
      "30 -- ok\n",
      "31 -- ok\n",
      "32 -- ok\n",
      "33 -- ok\n",
      "34 -- ok\n",
      "35 -- ok\n",
      "36 -- ok\n",
      "37 -- ok\n",
      "38 -- ok\n",
      "39 -- ok\n",
      "40 -- ok\n",
      "41 -- ok\n",
      "42 -- ok\n",
      "43 -- ok\n",
      "44 -- ok\n",
      "45 -- ok\n",
      "46 -- ok\n",
      "47 -- ok\n",
      "48 -- ok\n",
      "49 -- ok\n",
      "50 -- ok\n",
      "51 -- ok\n",
      "52 -- ok\n",
      "53 -- ok\n",
      "54 -- ok\n",
      "55 -- ok\n",
      "56 -- ok\n",
      "57 -- ok\n",
      "58 -- ok\n",
      "59 -- ok\n",
      "60 -- ok\n",
      "61 -- ok\n",
      "62 -- ok\n",
      "63 -- ok\n",
      "64 -- ok\n",
      "65 -- ok\n",
      "66 -- ok\n",
      "67 -- ok\n",
      "68 -- ok\n",
      "69 -- ok\n",
      "70 -- ok\n",
      "71 -- ok\n",
      "72 -- ok\n",
      "73 -- ok\n",
      "74 -- ok\n",
      "75 -- ok\n",
      "76 -- ok\n",
      "77 -- ok\n",
      "78 -- ok\n",
      "79 -- ok\n",
      "80 -- ok\n",
      "81 -- ok\n",
      "82 -- ok\n",
      "83 -- ok\n",
      "84 -- ok\n",
      "85 -- ok\n",
      "86 -- ok\n",
      "87 -- ok\n",
      "88 -- ok\n",
      "89 -- ok\n",
      "90 -- ok\n",
      "91 -- ok\n",
      "92 -- ok\n",
      "93 -- ok\n",
      "94 -- ok\n",
      "95 -- ok\n",
      "96 -- ok\n",
      "97 -- ok\n",
      "98 -- ok\n",
      "99 -- ok\n",
      "100 -- ok\n",
      "101 -- ok\n",
      "102 -- ok\n",
      "103 -- ok\n",
      "104 -- ok\n",
      "105 -- ok\n",
      "106 -- ok\n",
      "107 -- ok\n",
      "108 -- ok\n",
      "109 -- ok\n",
      "110 -- ok\n",
      "111 -- ok\n",
      "112 -- ok\n",
      "113 -- ok\n",
      "114 -- ok\n",
      "115 -- ok\n",
      "116 -- ok\n",
      "117 -- ok\n",
      "118 -- ok\n",
      "119 -- ok\n",
      "120 -- ok\n",
      "121 -- ok\n",
      "122 -- ok\n",
      "123 -- ok\n",
      "124 -- ok\n",
      "125 -- ok\n",
      "126 -- ok\n",
      "127 -- ok\n",
      "128 -- ok\n",
      "129 -- ok\n",
      "(11690, 30) (11690,) (11690,)\n"
     ]
    }
   ],
   "source": [
    "import numpy as np\n",
    "import numpy as np\n",
    "import re\n",
    "import pymorphy2 as pym2\n",
    "\n",
    "# функция для проверки соответствия слова какой-либо информативной единице\n",
    "def pass_pattern(s):\n",
    "    x = re.findall(r'[a-zа-я0-9]*\\b', s)\n",
    "    if x:\n",
    "        return x[0] == s\n",
    "    return False\n",
    "\n",
    "y_train = []\n",
    "X_train = []\n",
    "groups_train = []\n",
    "words_list = {}\n",
    "\n",
    "#используем морфологический анализатор\n",
    "MAnalyzer = pym2.MorphAnalyzer()\n",
    "\n",
    "# множество словарь слов с их количеством в тектсе\n",
    "multi_map = {}\n",
    "\n",
    "# идем по всем группам и считаем сколько каких слов встречается во всех заголовках\n",
    "# данные слова должны быть приведены к нормальной форме\n",
    "for new_group in traingroups_titledata:\n",
    "    docs = traingroups_titledata[new_group]\n",
    "    for k, (doc_id, title, target_id) in enumerate(docs):\n",
    "        words = set([MAnalyzer.normal_forms(x.lower().strip('.,?:!-()\";*\"'))[0]\n",
    "                     if pass_pattern(x.lower().strip('.,?:!()\";*\"')) else ''\n",
    "                     for x in title.strip().split()])\n",
    "        if '' in words:\n",
    "            words.remove('')\n",
    "        words_list[doc_id] = words.copy()\n",
    "        for x in words:\n",
    "            if not x in multi_map:\n",
    "                multi_map[x] = 1\n",
    "            else:\n",
    "                multi_map[x] += 1\n",
    "\n",
    "# выбираем количество наиболее часто встречающихся слов, которые не являются информативными единицами\n",
    "# выводим наиболее часто встречающиеся слова в выборке тайтлов\n",
    "MAX_SPEC_WORDS = 11\n",
    "popular_words_lst = list(multi_map.items())\n",
    "popular_words_lst.sort(key=lambda x: x[1], reverse=True)\n",
    "print(*popular_words_lst[:3 * MAX_SPEC_WORDS], sep='\\n')\n",
    "\n",
    "# добавляем еще несколько неинформативных единиц, которые не являются достаточно популярными, \n",
    "# чтобы попасть в топ-MAX_SPEC_WORDS\n",
    "spec_words = {'о', 'из'}\n",
    "for i in popular_words_lst[:MAX_SPEC_WORDS]:\n",
    "    spec_words.add(i[0])\n",
    "print(spec_words)\n",
    "\n",
    "print('popular -- ok')\n",
    "\n",
    "max_features = 30 # количество фичей для каждого тайтла в обучающей выборке\n",
    "cnt = 1           # номер текущей группы \n",
    "for new_group in traingroups_titledata:\n",
    "    docs = traingroups_titledata[new_group]\n",
    "    for k, (doc_id, title, target_id) in enumerate(docs):\n",
    "        groups_train.append(new_group)\n",
    "        all_dist = []\n",
    "        # приводим слова к нормальной форме и помещаем их в сет\n",
    "        words = words_list[doc_id].copy()\n",
    "        for j in range(0, len(docs)):\n",
    "            if k == j:\n",
    "                continue\n",
    "            doc_id_j, title_j, target_j = docs[j]\n",
    "            # приводим слова к нормальной форме и помещаем их в сет\n",
    "            words_j = words_list[doc_id_j].copy()\n",
    "            all_dist.append(len(words.intersection(words_j)))\n",
    "        # если количество фичей недостаточно большое, то добавляем фиктивные (запонляем их нулями) \n",
    "        if len(all_dist) < max_features:\n",
    "            all_dist.extend([0] * (max_features - len(all_dist)))\n",
    "        X_train.append(sorted(all_dist, reverse=True)[0:max_features])\n",
    "        y_train.append(target_id)\n",
    "    print(\"{} -- ok\".format(cnt))\n",
    "    cnt += 1\n",
    "\n",
    "X_train = np.array(X_train)\n",
    "y_train = np.array(y_train)\n",
    "groups_train = np.array(groups_train)\n",
    "print (X_train.shape, y_train.shape, groups_train.shape)"
   ]
  },
  {
   "cell_type": "markdown",
   "metadata": {},
   "source": [
    "Подберите размер батча для обучения. Линейная модель не должна учиться дольше нескольких минут. \n",
    "\n",
    "Не забывайте использовать скейлер!"
   ]
  },
  {
   "cell_type": "code",
   "execution_count": 30,
   "metadata": {},
   "outputs": [],
   "source": [
    "from sklearn.metrics import f1_score\n",
    "from sklearn.linear_model import LinearRegression\n",
    "from sklearn.preprocessing import StandardScaler\n",
    "from sklearn.preprocessing import normalize\n",
    "from sklearn.model_selection import train_test_split"
   ]
  },
  {
   "cell_type": "code",
   "execution_count": null,
   "metadata": {},
   "outputs": [],
   "source": [
    "X_train = normalize(X_train, norm='l2', axis=1)\n",
    "\n",
    "res = []\n",
    "\n",
    "val = 0.38\n",
    "for _ in range(1):\n",
    "    # делим выборку на валидационную и тренировочную\n",
    "    X_subtrain, X_validation, y_subtrain, y_validation = train_test_split(X_train, y_train, test_size = 0.3)\n",
    "\n",
    "    clf = MySGDClassifier(batch_generator=batch_generator, batch_size=10, C=10000, alpha=0.01, \n",
    "                              coef=0.99, max_epoch=100, model_type='lin_reg')\n",
    "   # LinearRegression()\n",
    "    clf.fit(X_subtrain, y_subtrain)\n",
    "\n",
    "    y_validation_predict = clf.predict(X_validation)\n",
    "\n",
    "    for i in np.where(y_validation_predict >= val):\n",
    "        y_validation_predict[i] = 1\n",
    "    for i in np.where(y_validation_predict < val):\n",
    "        y_validation_predict[i] = 0\n",
    "    res.append(f1_score(y_validation, y_validation_predict))\n",
    "    print(\"{} -- ok\".format(_))\n",
    "\n",
    "print(res)\n",
    "print(sum(res) / len(res))"
   ]
  },
  {
   "cell_type": "code",
   "execution_count": null,
   "metadata": {},
   "outputs": [],
   "source": []
  },
  {
   "cell_type": "markdown",
   "metadata": {},
   "source": [
    "Разбейте данные на обучение и валидацию. Подберите параметры C, alpha, max_epoch, model_type на валидации (Вы же помните, как правильно в этой задаче делать валидацию?)"
   ]
  },
  {
   "cell_type": "code",
   "execution_count": null,
   "metadata": {},
   "outputs": [],
   "source": []
  },
  {
   "cell_type": "markdown",
   "metadata": {
    "collapsed": true
   },
   "source": [
    "Подберите порог линейной модели, по достижении которого, Вы будете относить объект к классу 1. Вспомните, какую метрику мы оптимизируем в соревновании.  Как тогда правильно подобрать порог?"
   ]
  },
  {
   "cell_type": "code",
   "execution_count": null,
   "metadata": {},
   "outputs": [],
   "source": []
  },
  {
   "cell_type": "code",
   "execution_count": null,
   "metadata": {},
   "outputs": [],
   "source": []
  },
  {
   "cell_type": "markdown",
   "metadata": {},
   "source": [
    "С лучшими параметрами на валидации сделайте предсказание на тестовом множестве, отправьте его на проверку на платформу kaggle. Убедитесь, что Вы смогли побить public score первого бейзлайна."
   ]
  },
  {
   "cell_type": "markdown",
   "metadata": {
    "collapsed": true
   },
   "source": [
    "** При сдаче домашки Вам необходимо кроме ссылки на ноутбук показать Ваш ник на kaggle, под которым Вы залили решение, которое побило Handmade baseline. **"
   ]
  },
  {
   "cell_type": "code",
   "execution_count": 22,
   "metadata": {},
   "outputs": [
    {
     "data": {
      "text/html": [
       "<div>\n",
       "<style scoped>\n",
       "    .dataframe tbody tr th:only-of-type {\n",
       "        vertical-align: middle;\n",
       "    }\n",
       "\n",
       "    .dataframe tbody tr th {\n",
       "        vertical-align: top;\n",
       "    }\n",
       "\n",
       "    .dataframe thead th {\n",
       "        text-align: right;\n",
       "    }\n",
       "</style>\n",
       "<table border=\"1\" class=\"dataframe\">\n",
       "  <thead>\n",
       "    <tr style=\"text-align: right;\">\n",
       "      <th></th>\n",
       "      <th>pair_id</th>\n",
       "      <th>group_id</th>\n",
       "      <th>doc_id</th>\n",
       "    </tr>\n",
       "  </thead>\n",
       "  <tbody>\n",
       "    <tr>\n",
       "      <th>0</th>\n",
       "      <td>11691</td>\n",
       "      <td>130</td>\n",
       "      <td>6710</td>\n",
       "    </tr>\n",
       "    <tr>\n",
       "      <th>1</th>\n",
       "      <td>11692</td>\n",
       "      <td>130</td>\n",
       "      <td>4030</td>\n",
       "    </tr>\n",
       "    <tr>\n",
       "      <th>2</th>\n",
       "      <td>11693</td>\n",
       "      <td>130</td>\n",
       "      <td>5561</td>\n",
       "    </tr>\n",
       "    <tr>\n",
       "      <th>3</th>\n",
       "      <td>11694</td>\n",
       "      <td>130</td>\n",
       "      <td>4055</td>\n",
       "    </tr>\n",
       "    <tr>\n",
       "      <th>4</th>\n",
       "      <td>11695</td>\n",
       "      <td>130</td>\n",
       "      <td>4247</td>\n",
       "    </tr>\n",
       "  </tbody>\n",
       "</table>\n",
       "</div>"
      ],
      "text/plain": [
       "   pair_id  group_id  doc_id\n",
       "0    11691       130    6710\n",
       "1    11692       130    4030\n",
       "2    11693       130    5561\n",
       "3    11694       130    4055\n",
       "4    11695       130    4247"
      ]
     },
     "execution_count": 22,
     "metadata": {},
     "output_type": "execute_result"
    }
   ],
   "source": [
    "test_data = pd.read_csv('test_groups.csv')\n",
    "test_data.head()"
   ]
  },
  {
   "cell_type": "code",
   "execution_count": 23,
   "metadata": {},
   "outputs": [
    {
     "name": "stdout",
     "output_type": "stream",
     "text": [
      "('в', 3384)\n",
      "('и', 3055)\n",
      "('как', 2892)\n",
      "('на', 2188)\n",
      "('с', 1091)\n",
      "('для', 1065)\n",
      "('форум', 1001)\n",
      "('по', 812)\n",
      "('что', 704)\n",
      "('о', 667)\n",
      "('страница', 610)\n",
      "('скачать', 572)\n",
      "('от', 557)\n",
      "('онлайн', 518)\n",
      "('бесплатно', 515)\n",
      "('российский', 494)\n",
      "('из', 426)\n",
      "('новость', 426)\n",
      "('сервис', 424)\n",
      "('к', 413)\n",
      "('вконтакте', 412)\n",
      "('liveinternet', 400)\n",
      "('2', 398)\n",
      "('за', 366)\n",
      "('чем', 352)\n",
      "('ли', 338)\n",
      "('смотреть', 334)\n",
      "('хороший', 323)\n",
      "('год', 312)\n",
      "('вопрос', 306)\n",
      "('цена', 305)\n",
      "('youtube', 299)\n",
      "('домашний', 297)\n",
      "{'от', 'что', 'к', 'в', 'из', 'на', 'за', 'форум', 'по', 'для', 'и', 'с', 'страница', 'как', 'о'}\n",
      "popular -- ok\n",
      "1 -- ok\n",
      "2 -- ok\n",
      "3 -- ok\n",
      "4 -- ok\n",
      "5 -- ok\n",
      "6 -- ok\n",
      "7 -- ok\n",
      "8 -- ok\n",
      "9 -- ok\n",
      "10 -- ok\n",
      "11 -- ok\n",
      "12 -- ok\n",
      "13 -- ok\n",
      "14 -- ok\n",
      "15 -- ok\n",
      "16 -- ok\n",
      "17 -- ok\n",
      "18 -- ok\n",
      "19 -- ok\n",
      "20 -- ok\n",
      "21 -- ok\n",
      "22 -- ok\n",
      "23 -- ok\n",
      "24 -- ok\n",
      "25 -- ok\n",
      "26 -- ok\n",
      "27 -- ok\n",
      "28 -- ok\n",
      "29 -- ok\n",
      "30 -- ok\n",
      "31 -- ok\n",
      "32 -- ok\n",
      "33 -- ok\n",
      "34 -- ok\n",
      "35 -- ok\n",
      "36 -- ok\n",
      "37 -- ok\n",
      "38 -- ok\n",
      "39 -- ok\n",
      "40 -- ok\n",
      "41 -- ok\n",
      "42 -- ok\n",
      "43 -- ok\n",
      "44 -- ok\n",
      "45 -- ok\n",
      "46 -- ok\n",
      "47 -- ok\n",
      "48 -- ok\n",
      "49 -- ok\n",
      "50 -- ok\n",
      "51 -- ok\n",
      "52 -- ok\n",
      "53 -- ok\n",
      "54 -- ok\n",
      "55 -- ok\n",
      "56 -- ok\n",
      "57 -- ok\n",
      "58 -- ok\n",
      "59 -- ok\n",
      "60 -- ok\n",
      "61 -- ok\n",
      "62 -- ok\n",
      "63 -- ok\n",
      "64 -- ok\n",
      "65 -- ok\n",
      "66 -- ok\n",
      "67 -- ok\n",
      "68 -- ok\n",
      "69 -- ok\n",
      "70 -- ok\n",
      "71 -- ok\n",
      "72 -- ok\n",
      "73 -- ok\n",
      "74 -- ok\n",
      "75 -- ok\n",
      "76 -- ok\n",
      "77 -- ok\n",
      "78 -- ok\n",
      "79 -- ok\n",
      "80 -- ok\n",
      "81 -- ok\n",
      "82 -- ok\n",
      "83 -- ok\n",
      "84 -- ok\n",
      "85 -- ok\n",
      "86 -- ok\n",
      "87 -- ok\n",
      "88 -- ok\n",
      "89 -- ok\n",
      "90 -- ok\n",
      "91 -- ok\n",
      "92 -- ok\n",
      "93 -- ok\n",
      "94 -- ok\n",
      "95 -- ok\n",
      "96 -- ok\n",
      "97 -- ok\n",
      "98 -- ok\n",
      "99 -- ok\n",
      "100 -- ok\n",
      "101 -- ok\n",
      "102 -- ok\n",
      "103 -- ok\n",
      "104 -- ok\n",
      "105 -- ok\n",
      "106 -- ok\n",
      "107 -- ok\n",
      "108 -- ok\n",
      "109 -- ok\n",
      "110 -- ok\n",
      "111 -- ok\n",
      "112 -- ok\n",
      "113 -- ok\n",
      "114 -- ok\n",
      "115 -- ok\n",
      "116 -- ok\n",
      "117 -- ok\n",
      "118 -- ok\n",
      "119 -- ok\n",
      "120 -- ok\n",
      "121 -- ok\n",
      "122 -- ok\n",
      "123 -- ok\n",
      "124 -- ok\n",
      "125 -- ok\n",
      "126 -- ok\n",
      "127 -- ok\n",
      "128 -- ok\n",
      "129 -- ok\n",
      "130 -- ok\n",
      "131 -- ok\n",
      "132 -- ok\n",
      "133 -- ok\n",
      "134 -- ok\n",
      "135 -- ok\n",
      "136 -- ok\n",
      "137 -- ok\n",
      "138 -- ok\n",
      "139 -- ok\n",
      "140 -- ok\n",
      "141 -- ok\n",
      "142 -- ok\n",
      "143 -- ok\n",
      "144 -- ok\n",
      "145 -- ok\n",
      "146 -- ok\n",
      "147 -- ok\n",
      "148 -- ok\n",
      "149 -- ok\n",
      "150 -- ok\n",
      "151 -- ok\n",
      "152 -- ok\n",
      "153 -- ok\n",
      "154 -- ok\n",
      "155 -- ok\n",
      "156 -- ok\n",
      "157 -- ok\n",
      "158 -- ok\n",
      "159 -- ok\n",
      "160 -- ok\n",
      "161 -- ok\n",
      "162 -- ok\n",
      "163 -- ok\n",
      "164 -- ok\n",
      "165 -- ok\n",
      "166 -- ok\n",
      "167 -- ok\n",
      "168 -- ok\n",
      "169 -- ok\n",
      "170 -- ok\n",
      "171 -- ok\n",
      "172 -- ok\n",
      "173 -- ok\n",
      "174 -- ok\n",
      "175 -- ok\n",
      "176 -- ok\n",
      "177 -- ok\n",
      "178 -- ok\n",
      "179 -- ok\n",
      "180 -- ok\n"
     ]
    }
   ],
   "source": [
    "#просто копипастим и загоняем тестовую выборку в test_data так же кк train_data\n",
    "testgroups_titledata = {}\n",
    "for i in range(len(test_data)):\n",
    "    new_doc = test_data.iloc[i]\n",
    "    doc_group = new_doc['group_id']\n",
    "    doc_id = new_doc['doc_id']\n",
    "    title = doc_to_title[doc_id]\n",
    "    if doc_group not in testgroups_titledata:\n",
    "        testgroups_titledata[doc_group] = []\n",
    "    testgroups_titledata[doc_group].append((doc_id, title))\n",
    "\n",
    "def pass_pattern(s):\n",
    "    x = re.findall(r'[a-zа-я0-9]*\\b', s)\n",
    "    if x:\n",
    "        return x[0] == s\n",
    "    return False\n",
    "    \n",
    "# анализатор слов\n",
    "MAnalyzer = pym2.MorphAnalyzer()\n",
    "\n",
    "# множество словарь слов с их количеством в тектсе\n",
    "multi_map = {}\n",
    "\n",
    "words_list = {}\n",
    "\n",
    "for new_group in testgroups_titledata:\n",
    "    docs = testgroups_titledata[new_group]\n",
    "    for k, (doc_id, title) in enumerate(docs):\n",
    "        words = set([MAnalyzer.normal_forms(x.lower().strip('.,?:!-()\";*\"'))[0]\n",
    "                     if pass_pattern(x.lower().strip('.,?:!()\";*\"')) else ''\n",
    "                     for x in title.strip().split()])\n",
    "        if '' in words:\n",
    "            words.remove('')\n",
    "        words_list[doc_id] = words.copy()\n",
    "        for x in words:\n",
    "            if not x in multi_map:\n",
    "                multi_map[x] = 1\n",
    "            else:\n",
    "                multi_map[x] += 1\n",
    "\n",
    "# выбираем количество наиболее часто встречающихся слов, которые не являются информативными единицами\n",
    "# выводим наиболее часто встречающиеся слова в выборке тайтлов\n",
    "MAX_SPEC_WORDS = 11\n",
    "popular_words_lst = list(multi_map.items())\n",
    "popular_words_lst.sort(key=lambda x: x[1], reverse=True)\n",
    "print(*popular_words_lst[:3 * MAX_SPEC_WORDS], sep='\\n')\n",
    "\n",
    "# добавляем еще несколько неинформативных единиц, которые не являются достаточно популярными, \n",
    "# чтобы попасть в топ-MAX_SPEC_WORDS\n",
    "spec_words = {'от', 'из', 'к', 'за'}\n",
    "for i in popular_words_lst[:MAX_SPEC_WORDS]:\n",
    "    spec_words.add(i[0])\n",
    "print(spec_words)\n",
    "print('popular -- ok')\n",
    "\n",
    "max_features = 30\n",
    "X_test = []\n",
    "groups_test = []\n",
    "cnt = 1\n",
    "for new_group in testgroups_titledata:\n",
    "    docs = testgroups_titledata[new_group]\n",
    "    for k, (doc_id, title) in enumerate(docs):\n",
    "        groups_test.append(new_group)\n",
    "        all_dist = []\n",
    "        # приводим слова к нормальной форме и помещаем их в сет\n",
    "        words = words_list[doc_id].copy()\n",
    "        for j in range(0, len(docs)):\n",
    "            if k == j:\n",
    "                continue\n",
    "            doc_id_j, title_j = docs[j]\n",
    "            words_j = words_list[doc_id_j].copy()\n",
    "            all_dist.append(len(words.intersection(words_j)))\n",
    "\n",
    "        if len(all_dist) < max_features:\n",
    "            all_dist.extend([0] * (max_features - len(all_dist)))\n",
    "        X_test.append(sorted(all_dist, reverse=True)[0:max_features])\n",
    "    print(\"{} -- ok\".format(cnt))\n",
    "    cnt += 1\n",
    "X_test = np.array(X_test)\n",
    "groups_test = np.array(groups_test)"
   ]
  },
  {
   "cell_type": "code",
   "execution_count": 24,
   "metadata": {},
   "outputs": [
    {
     "data": {
      "text/plain": [
       "MySGDClassifier(C=10000, alpha=0.0036603234127322924,\n",
       "                batch_generator=<function batch_generator at 0x7fc3d03bb830>,\n",
       "                batch_size=10, coef=0.99, max_epoch=100)"
      ]
     },
     "execution_count": 24,
     "metadata": {},
     "output_type": "execute_result"
    }
   ],
   "source": [
    "clf = MySGDClassifier(batch_generator=batch_generator, batch_size=10, C=10000, alpha=0.01, \n",
    "                              coef=0.99, max_epoch=100, model_type='lin_reg')\n",
    "clf.fit(X_train, y_train)"
   ]
  },
  {
   "cell_type": "code",
   "execution_count": 25,
   "metadata": {},
   "outputs": [],
   "source": [
    "y_pred = clf.predict(X_test)\n",
    "for i in np.where(y_pred >= 0.38):\n",
    "    y_pred[i] = 1\n",
    "for i in np.where(y_pred < 0.38):\n",
    "    y_pred[i] = 0\n",
    "y_pred = np.array(y_pred, dtype=int)"
   ]
  },
  {
   "cell_type": "code",
   "execution_count": 26,
   "metadata": {},
   "outputs": [],
   "source": [
    "#добавляем столбец target\n",
    "test_data['target'] = y_pred\n",
    "\n",
    "#удаляем ненужные столбцы\n",
    "test_data.drop(['group_id', 'doc_id'], axis='columns', inplace=True)\n",
    "\n",
    "#сохраняем наш датафрейм в файл, который загружаем в kaggle\n",
    "test_data.to_csv('result.csv', index=False)"
   ]
  },
  {
   "cell_type": "markdown",
   "metadata": {},
   "source": [
    "# Фидбек (бесценно)"
   ]
  },
  {
   "cell_type": "markdown",
   "metadata": {},
   "source": [
    "* Какие аспекты обучения линейных моделей Вам показались непонятными? Какое место стоит дополнительно объяснить?"
   ]
  },
  {
   "cell_type": "markdown",
   "metadata": {},
   "source": [
    "***Ваше ответ здесь***"
   ]
  },
  {
   "cell_type": "markdown",
   "metadata": {},
   "source": [
    "* Здесь Вы можете оставить отзыв о этой домашней работе или о всем курсе.   "
   ]
  },
  {
   "cell_type": "markdown",
   "metadata": {},
   "source": [
    "*** ВАШ ОТЗЫВ ЗДЕСЬ***"
   ]
  },
  {
   "cell_type": "code",
   "execution_count": null,
   "metadata": {},
   "outputs": [],
   "source": []
  },
  {
   "cell_type": "code",
   "execution_count": null,
   "metadata": {},
   "outputs": [],
   "source": []
  }
 ],
 "metadata": {
  "anaconda-cloud": {},
  "kernelspec": {
   "display_name": "Python 3",
   "language": "python",
   "name": "python3"
  },
  "language_info": {
   "codemirror_mode": {
    "name": "ipython",
    "version": 3
   },
   "file_extension": ".py",
   "mimetype": "text/x-python",
   "name": "python",
   "nbconvert_exporter": "python",
   "pygments_lexer": "ipython3",
   "version": "3.7.9"
  },
  "nav_menu": {},
  "toc": {
   "colors": {
    "hover_highlight": "#DAA520",
    "navigate_num": "#000000",
    "navigate_text": "#333333",
    "running_highlight": "#FF0000",
    "selected_highlight": "#FFD700",
    "sidebar_border": "#EEEEEE",
    "wrapper_background": "#FFFFFF"
   },
   "moveMenuLeft": true,
   "nav_menu": {
    "height": "402px",
    "width": "253px"
   },
   "navigate_menu": true,
   "number_sections": false,
   "sideBar": true,
   "threshold": 4,
   "toc_cell": false,
   "toc_section_display": "block",
   "toc_window_display": true,
   "widenNotebook": false
  }
 },
 "nbformat": 4,
 "nbformat_minor": 2
}
